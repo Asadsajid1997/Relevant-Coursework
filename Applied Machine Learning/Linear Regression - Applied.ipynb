{
  "nbformat": 4,
  "nbformat_minor": 0,
  "metadata": {
    "colab": {
      "provenance": []
    },
    "kernelspec": {
      "name": "python3",
      "display_name": "Python 3"
    },
    "language_info": {
      "name": "python"
    }
  },
  "cells": [
    {
      "cell_type": "markdown",
      "source": [
        "[100 points] Write a program to find the coefficients for a linear regression model for the dataset provided (data2.txt). Assume a linear model: y = w0 + w1*x."
      ],
      "metadata": {
        "id": "32YTtvfMs701"
      }
    },
    {
      "cell_type": "code",
      "execution_count": 1,
      "metadata": {
        "id": "q0qS1A0LNI-o"
      },
      "outputs": [],
      "source": [
        "import pandas as pd\n",
        "import matplotlib.pyplot as plt\n",
        "import numpy as np"
      ]
    },
    {
      "cell_type": "code",
      "source": [
        "df = pd.read_csv(\"data2.txt\", header=None)"
      ],
      "metadata": {
        "id": "vuSFKggGNg-j"
      },
      "execution_count": 2,
      "outputs": []
    },
    {
      "cell_type": "code",
      "source": [
        "df.info()"
      ],
      "metadata": {
        "colab": {
          "base_uri": "https://localhost:8080/"
        },
        "id": "Gzfs0_RoNoAm",
        "outputId": "7ffc5065-0062-4e97-efdc-4d68d0c3c948"
      },
      "execution_count": 3,
      "outputs": [
        {
          "output_type": "stream",
          "name": "stdout",
          "text": [
            "<class 'pandas.core.frame.DataFrame'>\n",
            "RangeIndex: 97 entries, 0 to 96\n",
            "Data columns (total 2 columns):\n",
            " #   Column  Non-Null Count  Dtype  \n",
            "---  ------  --------------  -----  \n",
            " 0   0       97 non-null     float64\n",
            " 1   1       97 non-null     float64\n",
            "dtypes: float64(2)\n",
            "memory usage: 1.6 KB\n"
          ]
        }
      ]
    },
    {
      "cell_type": "code",
      "source": [
        "df.columns = ['X', 'Y']\n",
        "X = np.array(df[['X']])\n",
        "Y = np.array(df[['Y']])"
      ],
      "metadata": {
        "id": "LFKKZhy5W8mU"
      },
      "execution_count": 4,
      "outputs": []
    },
    {
      "cell_type": "code",
      "source": [
        "print(df)"
      ],
      "metadata": {
        "colab": {
          "base_uri": "https://localhost:8080/"
        },
        "id": "W9bmUyB_NprG",
        "outputId": "a4bb76bb-d9b7-4964-fb70-0f9baacfb7f4"
      },
      "execution_count": 5,
      "outputs": [
        {
          "output_type": "stream",
          "name": "stdout",
          "text": [
            "          X         Y\n",
            "0    6.1101  17.59200\n",
            "1    5.5277   9.13020\n",
            "2    8.5186  13.66200\n",
            "3    7.0032  11.85400\n",
            "4    5.8598   6.82330\n",
            "..      ...       ...\n",
            "92   5.8707   7.20290\n",
            "93   5.3054   1.98690\n",
            "94   8.2934   0.14454\n",
            "95  13.3940   9.05510\n",
            "96   5.4369   0.61705\n",
            "\n",
            "[97 rows x 2 columns]\n"
          ]
        }
      ]
    },
    {
      "cell_type": "markdown",
      "source": [
        "1)\tPlot the data (i.e., x-axis for the 1st column, y-axis for the 2nd column), [10 pts]"
      ],
      "metadata": {
        "id": "Za3kExqjbNPN"
      }
    },
    {
      "cell_type": "code",
      "source": [
        "plt.scatter(X, Y)\n",
        "plt.xlabel('x label')\n",
        "plt.ylabel('y label')\n",
        "plt.show()"
      ],
      "metadata": {
        "colab": {
          "base_uri": "https://localhost:8080/",
          "height": 449
        },
        "id": "jNHnyWGEU44s",
        "outputId": "40327e6a-648b-43bc-a75d-2087d4d00ab9"
      },
      "execution_count": 6,
      "outputs": [
        {
          "output_type": "display_data",
          "data": {
            "text/plain": [
              "<Figure size 640x480 with 1 Axes>"
            ],
            "image/png": "[encoded data removed]"
          },
          "metadata": {}
        }
      ]
    },
    {
      "cell_type": "markdown",
      "source": [
        "and use Python to implement the following methods to find the coefficients:\n",
        "2)\tNormal equation [20 pts], and\n"
      ],
      "metadata": {
        "id": "l4ZVKYBQbQMd"
      }
    },
    {
      "cell_type": "code",
      "source": [
        "bias = np.ones((97,1))\n",
        "X_bias = np.concatenate((bias, X), axis = 1)"
      ],
      "metadata": {
        "id": "8VkBb-2qnUkY"
      },
      "execution_count": 7,
      "outputs": []
    },
    {
      "cell_type": "code",
      "source": [
        "coef = np.dot(np.linalg.inv(np.dot(X_bias.transpose(), X_bias)), np.dot(X_bias.transpose(), Y))"
      ],
      "metadata": {
        "id": "u4dLiHCvbP5y"
      },
      "execution_count": 8,
      "outputs": []
    },
    {
      "cell_type": "code",
      "source": [
        "print(coef)"
      ],
      "metadata": {
        "colab": {
          "base_uri": "https://localhost:8080/"
        },
        "id": "7TLiFn_MDJNN",
        "outputId": "bcc9196a-a538-408a-db7f-f6a7682ce883"
      },
      "execution_count": 9,
      "outputs": [
        {
          "output_type": "stream",
          "name": "stdout",
          "text": [
            "[[-3.89578088]\n",
            " [ 1.19303364]]\n"
          ]
        }
      ]
    },
    {
      "cell_type": "markdown",
      "source": [
        "**3)\tGradient Descent using batch AND stochastic modes respectively:**\n",
        "\n",
        "a)\tSplit dataset into 80% for training and 20% for testing. [8 pts]\n"
      ],
      "metadata": {
        "id": "zmy_aaafDTue"
      }
    },
    {
      "cell_type": "code",
      "source": [
        "def split_train_test(data, test_ratio):\n",
        "    shuffled_indices = np.random.permutation(len(data))\n",
        "    test_set_size = int(len(data) * test_ratio)\n",
        "    test_indices = shuffled_indices[:test_set_size]\n",
        "    train_indices = shuffled_indices[test_set_size:]\n",
        "    return data.iloc[train_indices], data.iloc[test_indices]"
      ],
      "metadata": {
        "id": "j1itXymrDSY2"
      },
      "execution_count": 10,
      "outputs": []
    },
    {
      "cell_type": "code",
      "source": [
        "train_set, test_set = split_train_test(df, 0.2)"
      ],
      "metadata": {
        "id": "0aO1EoFqH89A"
      },
      "execution_count": 11,
      "outputs": []
    },
    {
      "cell_type": "code",
      "source": [
        "print(test_set)"
      ],
      "metadata": {
        "colab": {
          "base_uri": "https://localhost:8080/"
        },
        "id": "nvP9cnZGIMsa",
        "outputId": "999b3601-9d5b-4283-bc3f-479985b116b5"
      },
      "execution_count": 12,
      "outputs": [
        {
          "output_type": "stream",
          "name": "stdout",
          "text": [
            "          X         Y\n",
            "56   6.2742   2.47560\n",
            "71   7.3345   4.02590\n",
            "1    5.5277   9.13020\n",
            "90   5.7077   1.84510\n",
            "92   5.8707   7.20290\n",
            "94   8.2934   0.14454\n",
            "12   5.7340   3.15510\n",
            "19   7.0708   5.38930\n",
            "54   6.3328   1.42330\n",
            "67  10.2360   7.77540\n",
            "7    8.5781  12.00000\n",
            "9    5.0546   3.81660\n",
            "2    8.5186  13.66200\n",
            "78  10.2740   6.75260\n",
            "36   8.0959   4.11640\n",
            "22   5.4901   4.26300\n",
            "11  14.1640  15.50500\n",
            "14   5.6407   0.71618\n",
            "96   5.4369   0.61705\n"
          ]
        }
      ]
    },
    {
      "cell_type": "markdown",
      "source": [
        "b)\tPlot MSE vs. iteration of the batch mode for both training set and testing set (in the same figure). (You need to determine an appropriate termination condition, e.g., when cost function is less than a threshold, and/or after a given number of iterations.) [17 pts]"
      ],
      "metadata": {
        "id": "RZPU-jmnImPs"
      }
    },
    {
      "cell_type": "code",
      "source": [
        "len(train_set)"
      ],
      "metadata": {
        "colab": {
          "base_uri": "https://localhost:8080/"
        },
        "id": "pR3kcJFoPbgK",
        "outputId": "a4a93ce7-2dcd-493c-ec80-eca2865d383f"
      },
      "execution_count": 13,
      "outputs": [
        {
          "output_type": "execute_result",
          "data": {
            "text/plain": [
              "78"
            ]
          },
          "metadata": {},
          "execution_count": 13
        }
      ]
    },
    {
      "cell_type": "code",
      "source": [
        "l = 0.01\n",
        "X_train = np.array(train_set[['X']])\n",
        "Y_train = np.array(train_set[['Y']])\n",
        "bias = np.ones((78,1))\n",
        "theta = np.random.randn(2,1)\n",
        "X_train_bias = np.concatenate((bias, X_train), axis = 1)\n",
        "mse_train = []"
      ],
      "metadata": {
        "id": "KET8pl_-IZ5N"
      },
      "execution_count": 34,
      "outputs": []
    },
    {
      "cell_type": "code",
      "source": [
        "for i in range(1000):\n",
        "    gradients = 2/78 * X_train_bias.T.dot(X_train_bias.dot(theta) - Y_train)\n",
        "    theta = theta - l*gradients\n",
        "    y_pred = X_train_bias.dot(theta)\n",
        "    mse_func = np.mean((y_pred - Y_train)**2)\n",
        "    mse_train.append(mse_func)\n",
        "\n",
        "print('begining mse', mse_train[0])\n",
        "print('ending mse', mse_train[-1])"
      ],
      "metadata": {
        "colab": {
          "base_uri": "https://localhost:8080/"
        },
        "id": "qxBV4SYxnuaS",
        "outputId": "e0e0e7dc-e316-496b-d3e0-f9a5a0ee5e62"
      },
      "execution_count": 35,
      "outputs": [
        {
          "output_type": "stream",
          "name": "stdout",
          "text": [
            "begining mse 29.170016818677777\n",
            "ending mse 8.375898167142273\n"
          ]
        }
      ]
    },
    {
      "cell_type": "code",
      "source": [
        "len(test_set)"
      ],
      "metadata": {
        "colab": {
          "base_uri": "https://localhost:8080/"
        },
        "id": "D6pn14LgoUw6",
        "outputId": "4a10a3fa-d8be-447f-a294-a6672a8461b4"
      },
      "execution_count": 36,
      "outputs": [
        {
          "output_type": "execute_result",
          "data": {
            "text/plain": [
              "19"
            ]
          },
          "metadata": {},
          "execution_count": 36
        }
      ]
    },
    {
      "cell_type": "code",
      "source": [
        "theta"
      ],
      "metadata": {
        "colab": {
          "base_uri": "https://localhost:8080/"
        },
        "id": "jvlSoZ6lPYfX",
        "outputId": "728d9f04-f2cc-4a01-9818-c4875c9c8f61"
      },
      "execution_count": 37,
      "outputs": [
        {
          "output_type": "execute_result",
          "data": {
            "text/plain": [
              "array([[-3.98722664],\n",
              "       [ 1.1883526 ]])"
            ]
          },
          "metadata": {},
          "execution_count": 37
        }
      ]
    },
    {
      "cell_type": "code",
      "source": [
        "l = 0.01\n",
        "X_test = np.array(test_set[['X']])\n",
        "Y_test = np.array(test_set[['Y']])\n",
        "bias_test = np.full((19, 1), theta[0])\n",
        "X_test_bias = np.concatenate((bias_test, X_test), axis = 1)\n",
        "mse_test = []"
      ],
      "metadata": {
        "id": "3-NhHAl5jc6O"
      },
      "execution_count": 55,
      "outputs": []
    },
    {
      "cell_type": "code",
      "source": [
        "X_test_bias"
      ],
      "metadata": {
        "colab": {
          "base_uri": "https://localhost:8080/"
        },
        "id": "uk_P_lgJPQ0e",
        "outputId": "01f060c3-6d08-43bc-d77e-ba8e6e367f27"
      },
      "execution_count": 39,
      "outputs": [
        {
          "output_type": "execute_result",
          "data": {
            "text/plain": [
              "array([[-3.98722664,  6.2742    ],\n",
              "       [-3.98722664,  7.3345    ],\n",
              "       [-3.98722664,  5.5277    ],\n",
              "       [-3.98722664,  5.7077    ],\n",
              "       [-3.98722664,  5.8707    ],\n",
              "       [-3.98722664,  8.2934    ],\n",
              "       [-3.98722664,  5.734     ],\n",
              "       [-3.98722664,  7.0708    ],\n",
              "       [-3.98722664,  6.3328    ],\n",
              "       [-3.98722664, 10.236     ],\n",
              "       [-3.98722664,  8.5781    ],\n",
              "       [-3.98722664,  5.0546    ],\n",
              "       [-3.98722664,  8.5186    ],\n",
              "       [-3.98722664, 10.274     ],\n",
              "       [-3.98722664,  8.0959    ],\n",
              "       [-3.98722664,  5.4901    ],\n",
              "       [-3.98722664, 14.164     ],\n",
              "       [-3.98722664,  5.6407    ],\n",
              "       [-3.98722664,  5.4369    ]])"
            ]
          },
          "metadata": {},
          "execution_count": 39
        }
      ]
    },
    {
      "cell_type": "code",
      "source": [
        "for i in range(1000):\n",
        "    gradients_test = 2/19 * X_test_bias.T.dot(X_test_bias.dot(theta) - Y_test)\n",
        "    theta = theta - l*gradients_test\n",
        "    y_pred = X_test_bias.dot(theta)\n",
        "    mse_func = np.mean((y_pred - Y_test)**2)\n",
        "    mse_test.append(mse_func)\n",
        "\n",
        "print('begining mse', mse_test[0])\n",
        "print('ending mse', mse_test[-1])"
      ],
      "metadata": {
        "colab": {
          "base_uri": "https://localhost:8080/"
        },
        "id": "2jE7Kvn4n0PK",
        "outputId": "022d62bf-869a-4886-89fd-0020eb516c6d"
      },
      "execution_count": 56,
      "outputs": [
        {
          "output_type": "stream",
          "name": "stdout",
          "text": [
            "begining mse 15.44335396327519\n",
            "ending mse 10.854781335217448\n"
          ]
        }
      ]
    },
    {
      "cell_type": "code",
      "source": [
        "epochs = range(1,1001)"
      ],
      "metadata": {
        "id": "QxWkbSbSL_fd"
      },
      "execution_count": 96,
      "outputs": []
    },
    {
      "cell_type": "code",
      "source": [
        "plt.plot(epochs, mse_train, label = \"train\")\n",
        "plt.plot(epochs, mse_test, label = \"test\")\n",
        "plt.legend()\n",
        "plt.xlabel(\"Epoch\")\n",
        "plt.ylabel(\"MSE\")\n",
        "plt.title(\"Batch\")\n",
        "plt.show()"
      ],
      "metadata": {
        "colab": {
          "base_uri": "https://localhost:8080/",
          "height": 472
        },
        "id": "tui4XJc1MNYA",
        "outputId": "c6a4f9a4-33d9-4959-bd34-f77dbf9ed374"
      },
      "execution_count": 97,
      "outputs": [
        {
          "output_type": "display_data",
          "data": {
            "text/plain": [
              "<Figure size 640x480 with 1 Axes>"
            ],
            "image/png": "[encoded data removed]"
          },
          "metadata": {}
        }
      ]
    },
    {
      "cell_type": "markdown",
      "source": [
        "c)\tRepeat b) but using the stochastics mode. [17 pts]"
      ],
      "metadata": {
        "id": "cFnOF41vQ0LJ"
      }
    },
    {
      "cell_type": "code",
      "source": [
        "l = 0.01\n",
        "theta = np.random.randn(2,1)\n",
        "mse_train_s = []\n",
        "\n",
        "for i in range(10):\n",
        "    random_index = np.random.randint(78)\n",
        "    xi = X_train_bias[random_index:random_index+1]\n",
        "    yi = Y_train[random_index:random_index+1]\n",
        "    gradients = 2 * xi.T.dot(xi.dot(theta) - yi)\n",
        "    theta = theta - l*gradients\n",
        "    y_pred = xi.dot(theta)\n",
        "    mse_func = np.mean((y_pred - yi)**2)\n",
        "    mse_train_s.append(mse_func)\n",
        "\n",
        "print('begining mse', mse_train_s[0])\n",
        "print('ending mse', mse_train_s[-1])"
      ],
      "metadata": {
        "colab": {
          "base_uri": "https://localhost:8080/"
        },
        "id": "TMnBYzHXQzxY",
        "outputId": "299afdea-42de-48cf-b560-819005024424"
      },
      "execution_count": 79,
      "outputs": [
        {
          "output_type": "stream",
          "name": "stdout",
          "text": [
            "begining mse 0.2328323096043553\n",
            "ending mse 0.02159823695893333\n"
          ]
        }
      ]
    },
    {
      "cell_type": "code",
      "source": [
        "l = 0.01\n",
        "mse_test_s = []\n",
        "\n",
        "for i in range(10):\n",
        "    random_index = np.random.randint(19)\n",
        "    xi = X_test_bias[random_index:random_index+1]\n",
        "    yi = Y_test[random_index:random_index+1]\n",
        "    gradients = 2 * xi.T.dot(xi.dot(theta) - yi)\n",
        "    theta = theta - l*gradients\n",
        "    y_pred = xi.dot(theta)\n",
        "    mse_func = np.mean((y_pred - yi)**2)\n",
        "    mse_test_s.append(mse_func)\n",
        "\n",
        "print('begining mse', mse_test_s[0])\n",
        "print('ending mse', mse_test_s[-1])"
      ],
      "metadata": {
        "colab": {
          "base_uri": "https://localhost:8080/"
        },
        "id": "cWpmdz6UTFkB",
        "outputId": "6c3f657d-dba1-4a40-cf20-125bf9dceb5e"
      },
      "execution_count": 75,
      "outputs": [
        {
          "output_type": "stream",
          "name": "stdout",
          "text": [
            "begining mse 25.681658638562343\n",
            "ending mse 0.802147872910253\n"
          ]
        }
      ]
    },
    {
      "cell_type": "code",
      "source": [
        "plt.clf()\n",
        "epochs = range(1,11)\n",
        "plt.plot(epochs, mse_train_s, label = \"train\")\n",
        "plt.plot(epochs, mse_test_s, label = \"test\")\n",
        "plt.legend()\n",
        "plt.xlabel(\"Epoch\")\n",
        "plt.ylabel(\"MSE\")\n",
        "plt.title(\"Stochastic\")\n",
        "plt.show()"
      ],
      "metadata": {
        "colab": {
          "base_uri": "https://localhost:8080/",
          "height": 472
        },
        "id": "F5U_7MJfbwnf",
        "outputId": "54a7c831-f743-4ae6-c063-e2e567ceac61"
      },
      "execution_count": 94,
      "outputs": [
        {
          "output_type": "display_data",
          "data": {
            "text/plain": [
              "<Figure size 640x480 with 1 Axes>"
            ],
            "image/png": "[encoded data removed]"
          },
          "metadata": {}
        }
      ]
    },
    {
      "cell_type": "markdown",
      "source": [
        "d)\tCompare batch and stochastic modes (with discussion) in terms of accuracy (of testing set) and speed of convergence. [8 pts]"
      ],
      "metadata": {
        "id": "Z-q2dlYdeE48"
      }
    },
    {
      "cell_type": "markdown",
      "source": [
        "**Accuracy of Testing Set**\n",
        "\n",
        "Since this is primarily a regression task, for accuracy, we would look at the value of MSE for batch and stochastic modes on testing sets. MSE for Stochastic mode is much lower than the MSE of batch, that too with fewer number of epochs, proving that stochastic mode has better chances of finding the global minimum. That is because it bounces around the function as can be seen in the plots. If we ran batch mode with a higher learning rate, or for more epochs, we could reduce the mse further, but stochastic is already giving much less mse with fewer number of epochs. Stochastic mode was better in this instance, but this won't be the case all the time, because randomness employed by stochastic mode is good to escape local minima, but it also means that it wont settle at the global minima. As you can see from the plot, the global minimum would have been at 4th epoch, but it didnt settle there."
      ],
      "metadata": {
        "id": "6F1rvRaBgKmF"
      }
    },
    {
      "cell_type": "markdown",
      "source": [
        "**Speed of Convergence**\n",
        "\n",
        "Practically speaking, on the dataset that we have been given it is very difficult to judge the speed of convergence because it is too small, only 97 rows. At this small dataset, both modes have nearly equal speed of convergence. But it is to be noted that generally, the stochastic mode is much faster at convergence than the batch mode because it works with an instance of data rather than the complete dataset as in batch mode."
      ],
      "metadata": {
        "id": "lmZvdUFdlRH8"
      }
    },
    {
      "cell_type": "markdown",
      "source": [
        "e)\tChange learning rate and plot MSE of the testing set vs. learning rate (using 0.001, 0.002, 0.003, 0.004, 0.005, 0.006, 0.007, 0.008, 0.009, 0.01). Based on the plot, determine the best learning rate. [20 pts]"
      ],
      "metadata": {
        "id": "h_AffxdpoePa"
      }
    },
    {
      "cell_type": "code",
      "source": [
        "l = [0.001, 0.002, 0.003, 0.004, 0.005, 0.006, 0.007, 0.008, 0.009, 0.01]\n",
        "mse_test_l = []\n",
        "theta = np.random.randn(2,1)\n",
        "\n",
        "for i in l:\n",
        "    gradients = 2/78 * X_train_bias.T.dot(X_train_bias.dot(theta) - Y_train)\n",
        "    theta = theta - i*gradients\n",
        "    y_pred = X_train_bias.dot(theta)\n",
        "    mse_func = np.mean((y_pred - Y_train)**2)\n",
        "    mse_test_l.append(mse_func)\n",
        "\n",
        "print('begining mse', mse_test_l[0])\n",
        "print('ending mse', mse_test_l[-1])"
      ],
      "metadata": {
        "colab": {
          "base_uri": "https://localhost:8080/"
        },
        "id": "UDxijQQadSX6",
        "outputId": "316fcfeb-dd15-4b12-ba6f-83ec9759c62d"
      },
      "execution_count": 90,
      "outputs": [
        {
          "output_type": "stream",
          "name": "stdout",
          "text": [
            "begining mse 238.48835967530255\n",
            "ending mse 11.021761131645249\n"
          ]
        }
      ]
    },
    {
      "cell_type": "code",
      "source": [
        "print(mse_test_l)"
      ],
      "metadata": {
        "colab": {
          "base_uri": "https://localhost:8080/"
        },
        "id": "U6CxrrI4rsHl",
        "outputId": "731bac5b-f8cb-4dd6-b2c2-84b3186f746f"
      },
      "execution_count": 98,
      "outputs": [
        {
          "output_type": "stream",
          "name": "stdout",
          "text": [
            "[238.48835967530255, 107.00850765108262, 32.674122024524245, 13.039786852513524, 11.134677691148733, 11.092723446318093, 11.077906240732634, 11.061148904023742, 11.042420741963396, 11.021761131645249]\n"
          ]
        }
      ]
    },
    {
      "cell_type": "code",
      "source": [
        "plt.clf()\n",
        "plt.plot(l, mse_test_l, label = \"test\")\n",
        "plt.legend()\n",
        "plt.xlabel(\"L\")\n",
        "plt.ylabel(\"MSE\")\n",
        "plt.title(\"Learning Rates\")\n",
        "plt.show()"
      ],
      "metadata": {
        "colab": {
          "base_uri": "https://localhost:8080/",
          "height": 472
        },
        "id": "c3XGgVZLp6yX",
        "outputId": "02c3730c-2a1b-437e-8f9d-ec0614dfa6a9"
      },
      "execution_count": 93,
      "outputs": [
        {
          "output_type": "display_data",
          "data": {
            "text/plain": [
              "<Figure size 640x480 with 1 Axes>"
            ],
            "image/png": "[encoded data removed]"
          },
          "metadata": {}
        }
      ]
    },
    {
      "cell_type": "markdown",
      "source": [
        "The plot shows that any learning rate after 0.004 works best because the MSE keeps on decreasing with increase in learning rate but very slowly. Among the given ones, the learning rate of 0.01 works best."
      ],
      "metadata": {
        "id": "RO0khSm_sQEK"
      }
    }
  ]
}
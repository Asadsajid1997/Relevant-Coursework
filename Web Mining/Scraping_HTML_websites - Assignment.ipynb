{
  "cells": [
    {
      "cell_type": "code",
      "execution_count": 13,
      "metadata": {
        "id": "_Bo0q4jnXgQT"
      },
      "outputs": [],
      "source": [
        "from bs4 import BeautifulSoup\n",
        "import re\n",
        "import time\n",
        "import requests\n",
        "import csv\n",
        "\n",
        "\n",
        "def run(url):\n",
        "    fw = open('reviews.csv', 'w', encoding='utf8', newline='')  # output file\n",
        "\n",
        "    writer = csv.writer(fw, lineterminator='\\n')  # create a csv writer for this file\n",
        "    writer.writerow(['Critic Name', 'Review Text', 'Review Date', 'Critic Platform', 'Rating'])\n",
        "\n",
        "\n",
        "    for i in range(5):  # try 5 times\n",
        "        # send a request to access the url\n",
        "        response = requests.get(url, headers={'User-Agent': 'Mozilla/5.0 (Windows NT 6.1) AppleWebKit/537.36 (KHTML, like Gecko) Chrome/41.0.2228.0 Safari/537.36'})\n",
        "        if response:  # explanation on response codes: https://realpython.com/python-requests/#status-codes\n",
        "            break  # we got the file, break the loop\n",
        "        else:\n",
        "            print('fail', i)\n",
        "            time.sleep(2)  # wait 2 secs\n",
        "\n",
        "    # all five attempts failed, return None\n",
        "    if not response:\n",
        "        return None\n",
        "\n",
        "    html = response.text  # read in the text from the file\n",
        "\n",
        "    soup = BeautifulSoup(html, 'html.parser')  # parse the html\n",
        "\n",
        "    reviews = soup.findAll('div', {'class': 'review-row'})  # get all the review divs\n",
        "\n",
        "    for review in reviews:\n",
        "\n",
        "        critic_name, review_text, review_date, critic_platform, rating = 'NA', 'NA', 'NA', 'NA', 'NA'  # initialize fields\n",
        "\n",
        "        critic_chunk = review.find('a', {'href': re.compile('/critics/')})\n",
        "        if critic_chunk:\n",
        "            critic_name = critic_chunk.text.strip()\n",
        "\n",
        "        platform_chunk = review.find('a', {'href': re.compile('/critics/source/')})\n",
        "        if platform_chunk:\n",
        "            critic_platform = platform_chunk.text.strip()\n",
        "\n",
        "        text_chunk = review.find('p', {'class': 'review-text'})\n",
        "        if text_chunk:\n",
        "            review_text = text_chunk.text.strip()\n",
        "\n",
        "        date_chunk = review.find('span', {'data-qa': 'review-date'})\n",
        "        if date_chunk:\n",
        "            review_date = date_chunk.text.strip()\n",
        "\n",
        "\n",
        "        icon = review.find('score-icon-critic')\n",
        "        if icon:\n",
        "            if 'fresh' in icon.get('state'):\n",
        "                rating = 'fresh'\n",
        "            elif 'rotten' in icon.get('state'):\n",
        "                rating = 'rotten'\n",
        "\n",
        "        writer.writerow([critic_name, review_text, review_date, critic_platform, rating])  # write to file\n",
        "\n",
        "    fw.close()\n",
        "\n",
        "\n",
        "url = 'https://www.rottentomatoes.com/m/space_jam/reviews/'\n",
        "run(url)\n"
      ]
    }
  ],
  "metadata": {
    "kernelspec": {
      "display_name": "Python 3 (ipykernel)",
      "language": "python",
      "name": "python3"
    },
    "language_info": {
      "codemirror_mode": {
        "name": "ipython",
        "version": 3
      },
      "file_extension": ".py",
      "mimetype": "text/x-python",
      "name": "python",
      "nbconvert_exporter": "python",
      "pygments_lexer": "ipython3",
      "version": "3.9.12"
    },
    "colab": {
      "provenance": []
    }
  },
  "nbformat": 4,
  "nbformat_minor": 0
}